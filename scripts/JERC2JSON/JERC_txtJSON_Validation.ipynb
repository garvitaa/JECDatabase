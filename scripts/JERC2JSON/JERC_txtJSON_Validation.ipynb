{
 "cells": [
  {
   "cell_type": "code",
   "execution_count": 1,
   "id": "7c0e3b09",
   "metadata": {},
   "outputs": [],
   "source": [
    "import time\n",
    "from coffea import nanoevents, util\n",
    "import hist\n",
    "import coffea.processor as processor\n",
    "import awkward as ak\n",
    "import numpy as np\n",
    "np.seterr(divide='ignore', invalid='ignore')\n",
    "import glob as glob\n",
    "import re\n",
    "import itertools\n",
    "import vector as vec\n",
    "from coffea.nanoevents.methods import vector\n",
    "from coffea.nanoevents import NanoAODSchema\n",
    "# for applying JECs\n",
    "from coffea.lookup_tools import extractor\n",
    "from coffea.jetmet_tools import JECStack, CorrectedJetsFactory"
   ]
  },
  {
   "cell_type": "markdown",
   "id": "e7dd6829",
   "metadata": {},
   "source": [
    "# JERC script for txt files"
   ]
  },
  {
   "cell_type": "code",
   "execution_count": 2,
   "id": "58599f22",
   "metadata": {},
   "outputs": [],
   "source": [
    "def ApplyJetCorrections(jec_tag, jec_tag_data, jer_tag, isMC, era=None,\n",
    "                        corr_type=None, do_factorized_jec_unc=False):\n",
    "    ## example input\n",
    "    # jec_tag=\"Summer19UL16APV_V7_MC\"\n",
    "    # jec_tag_data={\n",
    "    #     \"RunB-ver1\": \"Summer19UL16APV_RunBCD_V7_DATA\",\n",
    "    #     \"RunB-ver2\": \"Summer19UL16APV_RunBCD_V7_DATA\",\n",
    "    #     \"RunC\": \"Summer19UL16APV_RunBCD_V7_DATA\",\n",
    "    #     \"RunD\": \"Summer19UL16APV_RunBCD_V7_DATA\",\n",
    "    #     \"RunE\": \"Summer19UL16APV_RunEF_V7_DATA\",\n",
    "    #     \"RunF\": \"Summer19UL16APV_RunEF_V7_DATA\",\n",
    "    # }\n",
    "    # jer_tag = \"Summer20UL16APV_JRV3_MC\"\n",
    "    \n",
    "    extract = extractor()\n",
    "    if (isMC):\n",
    "        #For MC\n",
    "        extract.add_weight_sets([\n",
    "            '* * data/JEC/{0}/{0}_L1FastJet_AK4PFchs.txt'.format(jec_tag),\n",
    "            '* * data/JEC/{0}/{0}_L2Relative_AK4PFchs.txt'.format(jec_tag),\n",
    "            '* * data/JEC/{0}/{0}_L3Absolute_AK4PFchs.txt'.format(jec_tag),\n",
    "            '* * data/JEC/{0}/{0}_UncertaintySources_AK4PFchs.junc.txt'.format(jec_tag),\n",
    "            '* * data/JEC/{0}/{0}_Uncertainty_AK4PFchs.junc.txt'.format(jec_tag),\n",
    "        ])\n",
    "\n",
    "        if jer_tag:\n",
    "            extract.add_weight_sets([\n",
    "            '* * data/JER/{0}/{0}_PtResolution_AK4PFchs.jr.txt'.format(jer_tag),\n",
    "            '* * data/JER/{0}/{0}_SF_AK4PFchs.jersf.txt'.format(jer_tag)])\n",
    "    else:       \n",
    "        #For data, make sure we don't duplicate\n",
    "        tags_done = []\n",
    "        for run, tag in jec_tag_data.items():\n",
    "            if not (tag in tags_done):\n",
    "                extract.add_weight_sets([\n",
    "                '* * data/JEC/{0}/{0}_L1FastJet_AK4PFchs.txt'.format(tag),\n",
    "                '* * data/JEC/{0}/{0}_L2Relative_AK4PFchs.txt'.format(tag),\n",
    "                '* * data/JEC/{0}/{0}_L3Absolute_AK4PFchs.txt'.format(tag),\n",
    "                '* * data/JEC/{0}/{0}_L2L3Residual_AK4PFchs.txt'.format(tag),\n",
    "                ])\n",
    "                tags_done += [tag]\n",
    "                \n",
    "    extract.finalize()\n",
    "    evaluator = extract.make_evaluator()\n",
    "    \n",
    "    if (isMC):\n",
    "        jec_names = [\n",
    "            '{0}_L1FastJet_AK4PFchs'.format(jec_tag),\n",
    "            '{0}_L2Relative_AK4PFchs'.format(jec_tag),\n",
    "            '{0}_L3Absolute_AK4PFchs'.format(jec_tag),\n",
    "            '{0}_Uncertainty_AK4PFchs'.format(jec_tag)]\n",
    "        if do_factorized_jec_unc:\n",
    "            for name in dir(evaluator):\n",
    "               #factorized sources\n",
    "               if '{0}_UncertaintySources_AK4PFchs'.format(jec_tag) in name:\n",
    "                    jec_names.append(name)\n",
    "        if jer_tag: \n",
    "            jec_names.extend(['{0}_PtResolution_AK4PFchs'.format(jer_tag),\n",
    "                              '{0}_SF_AK4PFchs'.format(jer_tag)])\n",
    "\n",
    "    else:\n",
    "        jec_names={}\n",
    "        for run, tag in jec_tag_data.items():\n",
    "            jec_names[run] = [\n",
    "                '{0}_L1FastJet_AK4PFchs'.format(tag),\n",
    "                '{0}_L3Absolute_AK4PFchs'.format(tag),\n",
    "                '{0}_L2Relative_AK4PFchs'.format(tag),\n",
    "                '{0}_L2L3Residual_AK4PFchs'.format(tag),]\n",
    "    if isMC:\n",
    "        jec_inputs = {name: evaluator[name] for name in jec_names}\n",
    "    else:\n",
    "        jec_inputs = {name: evaluator[name] for name in jec_names[era]}\n",
    "    \n",
    "    jec_stack = JECStack(jec_inputs)\n",
    "    name_map = jec_stack.blank_name_map\n",
    "    name_map['JetPt'] = 'pt'\n",
    "    name_map['JetEta'] = 'eta'\n",
    "    name_map['JetPhi'] = 'phi'\n",
    "    name_map['JetMass'] = 'mass'\n",
    "    name_map['Rho'] = 'rho'\n",
    "    name_map['JetA'] = 'area'\n",
    "    name_map['ptGenJet'] = 'pt_gen'\n",
    "    name_map['ptRaw'] = 'pt_raw'\n",
    "    name_map['massRaw'] = 'mass_raw'\n",
    "    name_map['METpt'] = 'pt'\n",
    "    name_map['METphi'] = 'phi'\n",
    "    name_map['UnClusteredEnergyDeltaX'] = 'MetUnclustEnUpDeltaX'\n",
    "    name_map['UnClusteredEnergyDeltaY'] = 'MetUnclustEnUpDeltaY'\n",
    "    if corr_type=='met': return CorrectedMETFactory(name_map)\n",
    "    return CorrectedJetsFactory(name_map, jec_stack)"
   ]
  },
  {
   "cell_type": "markdown",
   "id": "05d5fb82",
   "metadata": {},
   "source": [
    "# JERC to be tested"
   ]
  },
  {
   "cell_type": "code",
   "execution_count": 3,
   "id": "1de4a858",
   "metadata": {},
   "outputs": [],
   "source": [
    "jec_tag=\"Summer19UL17_V5_MC\"\n",
    "jec_tag_data={\n",
    "    \"RunB\": \"Summer19UL17_RunB_V5_DATA\",\n",
    "    \"RunC\": \"Summer19UL17_RunC_V5_DATA\",\n",
    "    \"RunD\": \"Summer19UL17_RunD_V5_DATA\",\n",
    "    \"RunE\": \"Summer19UL17_RunE_V5_DATA\",\n",
    "    \"RunF\": \"Summer19UL17_RunF_V5_DATA\",\n",
    "}\n",
    "jer_tag = \"Summer19UL17_JRV2_MC\""
   ]
  },
  {
   "cell_type": "markdown",
   "id": "2825f255",
   "metadata": {},
   "source": [
    "## File for testing JERC"
   ]
  },
  {
   "cell_type": "code",
   "execution_count": 4,
   "id": "261b7527",
   "metadata": {},
   "outputs": [],
   "source": [
    "import uproot\n",
    "import awkward as ak\n",
    "from coffea.nanoevents import NanoEventsFactory, NanoAODSchema\n",
    "\n",
    "filename = 'root://cmsxrootd.fnal.gov//store/mc/Run3Summer22EENanoAODv11/QCD_PT-15to7000_TuneCP5_13p6TeV_pythia8/NANOAODSIM/EpsilonPU_castor_126X_mcRun3_2022_realistic_postEE_v1-v1/50000/048073fd-af00-4385-abbf-d1599b69c268.root'\n",
    "# filename = 'root://dcache-cms-xrootd.desy.de:1094//store/data/Run2017B/MET/NANOAOD/UL2017_MiniAODv2_NanoAODv9-v1/70000/FA64699A-4177-F641-A4A7-1D03AAD4F75A.root'\n",
    "isMC=True\n",
    "era = None\n",
    "\n",
    "events = NanoEventsFactory.from_root(\n",
    "    filename,\n",
    "    schemaclass=NanoAODSchema.v6,\n",
    "    #metadata={'dataset':\"MET\"}\n",
    ").events()"
   ]
  },
  {
   "cell_type": "code",
   "execution_count": 5,
   "id": "2f294600",
   "metadata": {},
   "outputs": [
    {
     "name": "stdout",
     "output_type": "stream",
     "text": [
      "Jet pt in NanoAOD:  [[81.8, 46.7, 42.7], [140, 134], ... 151, 51.2, 17.3], [1.4e+03, 1.23e+03, 224]]\n",
      "Un-corrected Jet pt:  [[76.3, 39.4, 32.3], [132, 128], ... 139, 44.3, 16.1], [1.31e+03, 1.16e+03, 210]]\n"
     ]
    }
   ],
   "source": [
    "Jets = events.Jet\n",
    "Jets[\"p4\"]    = ak.with_name(Jets[[\"pt\", \"eta\", \"phi\", \"mass\"]],\"PtEtaPhiMLorentzVector\")\n",
    "if (isMC):\n",
    "    Jets[\"matched_gen_0p2\"] = Jets.nearest(events.GenJet, threshold=0.2)\n",
    "print(\"Jet pt in NanoAOD: \", Jets.pt)\n",
    "\n",
    "if \"Rho\" in events.fields:\n",
    "    Jets[\"rho\"] = ak.broadcast_arrays(events.Rho.fixedGridRhoFastjetAll, Jets.pt)[0]\n",
    "else:\n",
    "    Jets[\"rho\"] = ak.broadcast_arrays(events.fixedGridRhoFastjetAll, Jets.pt)[0]\n",
    "\n",
    "Jets[\"pt_raw\"] = (1 - Jets.rawFactor) * Jets.pt\n",
    "Jets[\"mass_raw\"] = (1 - Jets.rawFactor) * Jets.mass\n",
    "Jets[\"pt\"] = Jets.pt_raw\n",
    "Jets[\"mass\"] = Jets.mass_raw\n",
    "Jets[\"p4\",\"pt\"] = Jets.pt_raw\n",
    "Jets[\"p4\",\"mass\"] = Jets.mass_raw\n",
    "if (isMC):\n",
    "    Jets[\"pt_gen\"] = ak.values_astype(ak.fill_none(Jets.matched_gen_0p2.pt, 0), np.float32)\n",
    "    \n",
    "print(\"Un-corrected Jet pt: \", Jets.pt)"
   ]
  },
  {
   "cell_type": "markdown",
   "id": "9dc9c607",
   "metadata": {},
   "source": [
    "# Checking outputs for txt"
   ]
  },
  {
   "cell_type": "code",
   "execution_count": 6,
   "id": "73d1b495",
   "metadata": {},
   "outputs": [],
   "source": [
    "CleanedJets = ApplyJetCorrections(jec_tag=jec_tag, jec_tag_data=jec_tag_data, jer_tag=jer_tag,\n",
    "                                  isMC=isMC, era=era, corr_type=None,\n",
    "                                  do_factorized_jec_unc=False).build(Jets, lazy_cache=events.caches[0])\n",
    "CleanedJets_nosmear = ApplyJetCorrections(jec_tag=jec_tag, jec_tag_data=jec_tag_data, jer_tag=None,\n",
    "                                  isMC=isMC, era=era, corr_type=None,\n",
    "                                  do_factorized_jec_unc=False).build(Jets, lazy_cache=events.caches[0])"
   ]
  },
  {
   "cell_type": "code",
   "execution_count": 7,
   "id": "07bd65a1",
   "metadata": {},
   "outputs": [
    {
     "name": "stdout",
     "output_type": "stream",
     "text": [
      "Corrected Jet pt:  [[84.2, 45, 38], [141, 136], ... 356, 154, 50.9, 17.9], [1.5e+03, 1.24e+03, 225]]\n"
     ]
    }
   ],
   "source": [
    "print(\"Corrected Jet pt: \", CleanedJets.pt)\n",
    "print(\"Corrected Jet pt with no smearing: \", CleanedJets_nosmear.pt)"
   ]
  },
  {
   "cell_type": "code",
   "execution_count": 8,
   "id": "8584f421",
   "metadata": {},
   "outputs": [
    {
     "name": "stdout",
     "output_type": "stream",
     "text": [
      "Corrected Jet pt with no smaering:  [[82.1, 45.3, 38.3], [141, 135], ... 153, 50.9, 18.3], [1.47e+03, 1.24e+03, 226]]\n"
     ]
    }
   ],
   "source": []
  },
  {
   "cell_type": "code",
   "execution_count": 9,
   "id": "d6bbea7c",
   "metadata": {},
   "outputs": [
    {
     "name": "stderr",
     "output_type": "stream",
     "text": [
      "Matplotlib created a temporary config/cache directory at /tmp/matplotlib-pbbqol5m because the default path (/uscms/home/gagarwal/.cache/matplotlib) is not a writable directory; it is highly recommended to set the MPLCONFIGDIR environment variable to a writable directory, in particular to speed up the import of Matplotlib and to better support multiprocessing.\n"
     ]
    }
   ],
   "source": [
    "import mplhep\n",
    "import matplotlib.pyplot as plt"
   ]
  },
  {
   "cell_type": "code",
   "execution_count": 10,
   "id": "d71f964c",
   "metadata": {},
   "outputs": [
    {
     "data": {
      "text/plain": [
       "(7710.044, 7864.5737)"
      ]
     },
     "execution_count": 10,
     "metadata": {},
     "output_type": "execute_result"
    }
   ],
   "source": [
    "ak.max(Jets.pt), ak.max(CleanedJets.pt)"
   ]
  },
  {
   "cell_type": "code",
   "execution_count": 11,
   "id": "5ce04862",
   "metadata": {},
   "outputs": [
    {
     "data": {
      "text/plain": [
       "<matplotlib.legend.Legend at 0x7f74ec5995e0>"
      ]
     },
     "execution_count": 11,
     "metadata": {},
     "output_type": "execute_result"
    },
    {
     "data": {
      "image/png": "[encoded data removed]",
      "text/plain": [
       "<Figure size 640x480 with 1 Axes>"
      ]
     },
     "metadata": {},
     "output_type": "display_data"
    }
   ],
   "source": [
    "pt_axis = hist.axis.Regular(80, 0, 8000, name=\"pt\", label=r\"$p_{T}$ [GeV]\")\n",
    "pt_old = hist.Hist(pt_axis, storage=\"weight\", name = \"Events\")\n",
    "pt_new = hist.Hist(pt_axis, storage=\"weight\", name = \"Events\")\n",
    "pt_nosmear = hist.Hist(pt_axis, storage=\"weight\", name = \"Events\")\n",
    "pt_old.fill(ak.flatten(Jets.pt))\n",
    "pt_new.fill(ak.flatten(CleanedJets.pt))\n",
    "pt_nosmear.fill(ak.flatten(CleanedJets_nosmear.pt))\n",
    "pt_old.plot(label='raw (mean = {})'.format(ak.mean(Jets.pt)))\n",
    "pt_nosmear.plot(label='corr (mean = {})'.format(ak.mean(CleanedJets_nosmear.pt)))\n",
    "pt_new.plot(label='corr+smear (mean = {})'.format(ak.mean(CleanedJets.pt)))\n",
    "plt.yscale('log')\n",
    "plt.legend()"
   ]
  },
  {
   "cell_type": "markdown",
   "id": "2983c6cc",
   "metadata": {},
   "source": [
    "## Now for JSON file"
   ]
  },
  {
   "cell_type": "markdown",
   "id": "82027004",
   "metadata": {},
   "source": [
    "Implementation of JEC from : https://github.com/cms-jet/JECDatabase/blob/master/scripts/JERC2JSON/minimalDemo.py"
   ]
  },
  {
   "cell_type": "code",
   "execution_count": 12,
   "id": "a4c6d402",
   "metadata": {},
   "outputs": [],
   "source": [
    "import correctionlib._core as core"
   ]
  },
  {
   "cell_type": "code",
   "execution_count": null,
   "id": "31d91aa0",
   "metadata": {},
   "outputs": [],
   "source": [
    "cset = core.CorrectionSet.from_file(\"UL2017/jet_jerc.json.gz\")\n"
   ]
  }
 ],
 "metadata": {
  "kernelspec": {
   "display_name": "Python 3",
   "language": "python",
   "name": "python3"
  },
  "language_info": {
   "codemirror_mode": {
    "name": "ipython",
    "version": 3
   },
   "file_extension": ".py",
   "mimetype": "text/x-python",
   "name": "python",
   "nbconvert_exporter": "python",
   "pygments_lexer": "ipython3",
   "version": "3.8.15"
  }
 },
 "nbformat": 4,
 "nbformat_minor": 5
}
